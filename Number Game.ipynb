{
 "cells": [
  {
   "cell_type": "code",
   "execution_count": null,
   "metadata": {},
   "outputs": [
    {
     "name": "stdout",
     "output_type": "stream",
     "text": [
      "Hello! Can you guess my number?\n",
      "It is between 1 and 100.\n",
      "If you are miles away, I will say \"cold\".\n",
      "If you are within 10, I will say \"warm\".\n",
      "Good Luck!\n",
      "I'm thinking of a number between 1 and 100. \n",
      "What do you think it is?11\n",
      "WARM!\n",
      "I'm thinking of a number between 1 and 100. \n",
      "What do you think it is?13\n",
      "COLDER!\n",
      "I'm thinking of a number between 1 and 100. \n",
      "What do you think it is?12\n",
      "WARMER!\n",
      "I'm thinking of a number between 1 and 100. \n",
      "What do you think it is?20\n",
      "COLDER!\n",
      "I'm thinking of a number between 1 and 100. \n",
      "What do you think it is?27\n",
      "COLDER!\n"
     ]
    }
   ],
   "source": [
    "import random\n",
    "num = 10\n",
    "#andom.randint(1,101)\n",
    "   \n",
    "print('Hello! Can you guess my number?')\n",
    "print('It is between 1 and 100.')\n",
    "print('If you are miles away, I will say \"cold\".')\n",
    "print('If you are within 10, I will say \"warm\".')\n",
    "print('Good Luck!')\n",
    "    \n",
    "guesses = [0]\n",
    "\n",
    "while True:\n",
    "    guess = int(input(\"I'm thinking of a number between 1 and 100. \\nWhat do you think it is?\"))\n",
    "    \n",
    "    \n",
    "    if guess < 1 or guess > 100:\n",
    "        print('\\nOut of bounds! \\nTry again!\\n')\n",
    "        continue\n",
    "    \n",
    "    if guess == num:\n",
    "        print (f'\\nYou are correct! \\nWell done! \\nYou guessed it in only {len(guesses)} tries!')\n",
    "        break   \n",
    "    \n",
    "    \n",
    "    guesses.append(guess) \n",
    "   \n",
    "    \n",
    "    if guesses[-2]:  \n",
    "        if abs(num-guess) < abs(num-guesses[-2]):\n",
    "            print('WARMER!')\n",
    "        else:\n",
    "            print('COLDER!')\n",
    "   \n",
    "    else:\n",
    "        if abs(num-guess) <= 10:\n",
    "            print('WARM!')\n",
    "        else:\n",
    "            print('COLD!')\n",
    "        \n",
    "                        \n",
    "        \n",
    " "
   ]
  },
  {
   "cell_type": "code",
   "execution_count": null,
   "metadata": {},
   "outputs": [],
   "source": []
  },
  {
   "cell_type": "code",
   "execution_count": null,
   "metadata": {},
   "outputs": [],
   "source": []
  }
 ],
 "metadata": {
  "kernelspec": {
   "display_name": "Python 3",
   "language": "python",
   "name": "python3"
  },
  "language_info": {
   "codemirror_mode": {
    "name": "ipython",
    "version": 3
   },
   "file_extension": ".py",
   "mimetype": "text/x-python",
   "name": "python",
   "nbconvert_exporter": "python",
   "pygments_lexer": "ipython3",
   "version": "3.8.5"
  }
 },
 "nbformat": 4,
 "nbformat_minor": 4
}
