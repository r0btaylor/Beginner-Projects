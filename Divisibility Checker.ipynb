{
 "cells": [
  {
   "cell_type": "code",
   "execution_count": null,
   "metadata": {},
   "outputs": [],
   "source": [
    "while True:\n",
    "    divid = int(input('Type in your dividend here:'))\n",
    "    divis = int(input('Type in the divisor here:'))\n",
    "    \n",
    "    if divid%divis == 0:\n",
    "        print('Your numbers can be divided without leaving a remainder')\n",
    "        continue\n",
    "    else:\n",
    "        print(f'When divided, your numbers leave a remainder of {divid%divis}')\n",
    "        continue"
   ]
  },
  {
   "cell_type": "code",
   "execution_count": null,
   "metadata": {},
   "outputs": [],
   "source": []
  }
 ],
 "metadata": {
  "kernelspec": {
   "display_name": "Python 3",
   "language": "python",
   "name": "python3"
  },
  "language_info": {
   "codemirror_mode": {
    "name": "ipython",
    "version": 3
   },
   "file_extension": ".py",
   "mimetype": "text/x-python",
   "name": "python",
   "nbconvert_exporter": "python",
   "pygments_lexer": "ipython3",
   "version": "3.8.5"
  }
 },
 "nbformat": 4,
 "nbformat_minor": 4
}
